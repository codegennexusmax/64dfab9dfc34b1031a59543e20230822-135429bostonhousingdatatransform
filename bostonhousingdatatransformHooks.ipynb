{
 "cells": [
  {
   "cell_type": "markdown",
   "id": "059c3460",
   "metadata": {},
   "source": [
    "***EXTENSIONS FOR bostonhousingdatatransform PIPELINE YOU CAN EDIT THESE EXTENSIONS***"
   ]
  },
  {
   "cell_type": "markdown",
   "id": "80ea793a",
   "metadata": {},
   "source": [
    "***EXTENSIONS FOR SOURCE STAGE***"
   ]
  },
  {
   "cell_type": "code",
   "execution_count": null,
   "id": "daba792d",
   "metadata": {},
   "outputs": [],
   "source": [
    "def sourcePreExecutionHook():\n",
    "\tprint('inside source pre execution hook')\n",
    "\n",
    "\n",
    "def sourcePostExecutionHook(data):\n",
    "\tprint('inside source post execution hook')\n",
    "\n",
    "\n"
   ]
  },
  {
   "cell_type": "markdown",
   "id": "f4fee3c3",
   "metadata": {},
   "source": [
    "***EXTENSIONS FOR OPERATION STAGE***"
   ]
  },
  {
   "cell_type": "code",
   "execution_count": null,
   "id": "5dacc379",
   "metadata": {},
   "outputs": [],
   "source": [
    "def operationPreExecutionHook():\n",
    "\tprint('inside operation pre execution hook')\n",
    "\n",
    "\n",
    "def operationPostExecutionHook(data):\n",
    "\tprint('inside operation post execution hook')\n",
    "\n",
    "\n"
   ]
  },
  {
   "cell_type": "markdown",
   "id": "b874ef15",
   "metadata": {},
   "source": [
    "***EXTENSIONS FOR SINK STAGE***"
   ]
  },
  {
   "cell_type": "code",
   "execution_count": null,
   "id": "de5e983e",
   "metadata": {},
   "outputs": [],
   "source": [
    "def sinkPreExecutionHook():\n",
    "\tprint('inside sink pre execution hook')\n",
    "\n",
    "\n",
    "def sinkPostExecutionHook(data):\n",
    "\tprint('inside sink post execution hook')\n",
    "\n",
    "\n"
   ]
  }
 ],
 "metadata": {},
 "nbformat": 4,
 "nbformat_minor": 5
}
